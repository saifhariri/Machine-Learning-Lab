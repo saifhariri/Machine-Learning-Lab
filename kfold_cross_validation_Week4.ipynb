{
 "cells": [
  {
   "cell_type": "code",
   "execution_count": 1,
   "id": "0d4417a6-ccd6-4bf7-8aea-1f3ba143a2d6",
   "metadata": {},
   "outputs": [],
   "source": [
    "from sklearn.datasets import load_iris\n",
    "from sklearn.neighbors import KNeighborsClassifier\n",
    "from sklearn.model_selection import KFold\n",
    "from sklearn.metrics import accuracy_score\n",
    "import numpy as np"
   ]
  },
  {
   "cell_type": "code",
   "execution_count": 2,
   "id": "1db5348b-2cc9-4164-8da7-e7ff3355223a",
   "metadata": {},
   "outputs": [],
   "source": [
    "iris = load_iris()\n",
    "X,y = iris.data, iris.target"
   ]
  },
  {
   "cell_type": "code",
   "execution_count": 3,
   "id": "e96b94c5-9480-43f6-b80a-466e83b3ba05",
   "metadata": {},
   "outputs": [],
   "source": [
    "kf = KFold(n_splits = 5, shuffle=True, random_state =42)"
   ]
  },
  {
   "cell_type": "code",
   "execution_count": 4,
   "id": "a7f48bb6-bf8d-4b38-8fc3-30d77e42200b",
   "metadata": {},
   "outputs": [],
   "source": [
    "knn = KNeighborsClassifier(n_neighbors=3)"
   ]
  },
  {
   "cell_type": "code",
   "execution_count": 5,
   "id": "616e3efc-63aa-49a0-bfe1-72115dbdc2cf",
   "metadata": {},
   "outputs": [],
   "source": [
    "scores = []"
   ]
  },
  {
   "cell_type": "code",
   "execution_count": 6,
   "id": "9ec7d8dd-9de9-4bc8-a5a0-6972d82a5a51",
   "metadata": {},
   "outputs": [],
   "source": [
    "for train_index, test_index in kf.split(X):\n",
    "    x_train, x_test = X[train_index],X[test_index]\n",
    "    y_train, y_test = y[train_index],y[test_index]\n",
    "    knn.fit(x_train,y_train)\n",
    "    y_pred = knn.predict(x_test)\n",
    "    accuracy = accuracy_score(y_test,y_pred)\n",
    "    scores.append(accuracy)"
   ]
  },
  {
   "cell_type": "code",
   "execution_count": 7,
   "id": "be90becf-12c1-469b-918c-0873ce599de7",
   "metadata": {},
   "outputs": [],
   "source": [
    "mean_accuracy= np.mean(scores)"
   ]
  },
  {
   "cell_type": "code",
   "execution_count": 8,
   "id": "85ae16d6-d384-497e-ad2d-f61662144d40",
   "metadata": {},
   "outputs": [
    {
     "name": "stdout",
     "output_type": "stream",
     "text": [
      "k-fold result: [1.0, 0.9666666666666667, 0.9666666666666667, 0.9333333333333333, 0.9666666666666667]\n",
      "mean accuracy: 0.9666666666666668\n"
     ]
    }
   ],
   "source": [
    "print(\"k-fold result:\", scores)\n",
    "print(\"mean accuracy:\", mean_accuracy )"
   ]
  },
  {
   "cell_type": "code",
   "execution_count": null,
   "id": "bb26fa01-7000-46b5-8ca8-dc775509da2e",
   "metadata": {},
   "outputs": [],
   "source": []
  }
 ],
 "metadata": {
  "kernelspec": {
   "display_name": "Python 3 (ipykernel)",
   "language": "python",
   "name": "python3"
  },
  "language_info": {
   "codemirror_mode": {
    "name": "ipython",
    "version": 3
   },
   "file_extension": ".py",
   "mimetype": "text/x-python",
   "name": "python",
   "nbconvert_exporter": "python",
   "pygments_lexer": "ipython3",
   "version": "3.11.7"
  }
 },
 "nbformat": 4,
 "nbformat_minor": 5
}
